{
 "cells": [
  {
   "cell_type": "markdown",
   "metadata": {},
   "source": [
    "### Training Parameters"
   ]
  },
  {
   "cell_type": "code",
   "execution_count": null,
   "metadata": {},
   "outputs": [],
   "source": [
    "# Assuming you have the following variables:\n",
    "# - train_hero_ids: List of hero_ids for training\n",
    "# - train_time_series: List of time series data for training\n",
    "# - train_targets: List of target values for training\n",
    "\n",
    "train_hero_ids = torch.tensor(train_hero_ids)\n",
    "train_time_series = torch.tensor(train_time_series)\n",
    "train_targets = torch.tensor(train_targets)"
   ]
  },
  {
   "cell_type": "markdown",
   "metadata": {},
   "source": [
    "## Non Padded Loop"
   ]
  },
  {
   "cell_type": "code",
   "execution_count": null,
   "metadata": {},
   "outputs": [],
   "source": [
    "for epoch in range(num_epochs):\n",
    "    for i in range(0, len(train_hero_ids), batch_size):\n",
    "        batch_hero_ids = train_hero_ids[i:i+batch_size]\n",
    "        batch_time_series = train_time_series[i:i+batch_size]\n",
    "        batch_targets = train_targets[i:i+batch_size]\n",
    "        \n",
    "        optimizer.zero_grad()\n",
    "        outputs = model(batch_hero_ids, batch_time_series)\n",
    "        loss = criterion(outputs, batch_targets)\n",
    "        loss.backward()\n",
    "        optimizer.step()"
   ]
  },
  {
   "cell_type": "markdown",
   "metadata": {},
   "source": [
    "## Padded Loop"
   ]
  },
  {
   "cell_type": "code",
   "execution_count": null,
   "metadata": {},
   "outputs": [],
   "source": [
    "\n",
    "for epoch in range(num_epochs):\n",
    "    for hero_ids, padded_time_series, lengths in data_loader:\n",
    "        optimizer.zero_grad()\n",
    "\n",
    "        # Sort the sequences by length in descending order\n",
    "        lengths, sorted_indices = lengths.sort(descending=True)\n",
    "        hero_ids = hero_ids[sorted_indices]\n",
    "        padded_time_series = padded_time_series[sorted_indices]\n",
    "\n",
    "        # Forward pass\n",
    "        outputs = model(hero_ids, padded_time_series, lengths)\n",
    "\n",
    "        # Compute loss and perform backpropagation\n",
    "        loss = criterion(outputs, targets[sorted_indices])\n",
    "        loss.backward()\n",
    "        optimizer.step()"
   ]
  },
  {
   "cell_type": "markdown",
   "metadata": {},
   "source": [
    "### Evaluating Model"
   ]
  },
  {
   "cell_type": "code",
   "execution_count": null,
   "metadata": {},
   "outputs": [],
   "source": [
    "# Assuming you have the following variables:\n",
    "# - test_hero_ids: List of hero_ids for testing\n",
    "# - test_time_series: List of time series data for testing\n",
    "# - test_targets: List of target values for testing\n",
    "\n",
    "model.eval()\n",
    "with torch.no_grad():\n",
    "    test_hero_ids = torch.tensor(test_hero_ids)\n",
    "    test_time_series = torch.tensor(test_time_series)\n",
    "    test_targets = torch.tensor(test_targets)\n",
    "    \n",
    "    outputs = model(test_hero_ids, test_time_series)\n",
    "    loss = criterion(outputs, test_targets)\n",
    "    \n",
    "    # Calculate evaluation metrics (e.g., MSE, MAE)\n",
    "    # ..."
   ]
  },
  {
   "cell_type": "markdown",
   "metadata": {},
   "source": [
    "### Training model?"
   ]
  },
  {
   "cell_type": "code",
   "execution_count": null,
   "metadata": {},
   "outputs": [],
   "source": [
    "model.train()\n",
    "for epoch in range(num_epochs):\n",
    "    for hero_ids, time_series in train_loader:\n",
    "        optimizer.zero_grad()\n",
    "        process_embeddings = process_embedding(hero_ids)\n",
    "        output = model(process_embeddings, time_series)\n",
    "        loss = criterion(output, target)\n",
    "        loss.backward()\n",
    "        optimizer.step()"
   ]
  }
 ],
 "metadata": {
  "kernelspec": {
   "display_name": "base",
   "language": "python",
   "name": "python3"
  },
  "language_info": {
   "name": "python",
   "version": "3.10.13"
  }
 },
 "nbformat": 4,
 "nbformat_minor": 2
}
